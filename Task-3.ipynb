{
 "cells": [
  {
   "cell_type": "markdown",
   "id": "e49c758c-3ae3-467e-94af-6d2356abf473",
   "metadata": {},
   "source": [
    "# 10 most useful list methods in Python "
   ]
  },
  {
   "cell_type": "markdown",
   "id": "09243667-4c47-4450-a845-473e4fcf49f6",
   "metadata": {},
   "source": [
    "# 1) list.append(item)\n",
    "* https://martinxpn.medium.com/10-most-useful-list-methods-in-python-20-100-days-of-python-f0f0d1df7205"
   ]
  },
  {
   "cell_type": "code",
   "execution_count": 8,
   "id": "bacfcf31-fd4e-4964-bfae-f3dbc1745b12",
   "metadata": {},
   "outputs": [],
   "source": [
    "numbers = [1, 2, 3]"
   ]
  },
  {
   "cell_type": "code",
   "execution_count": 10,
   "id": "117cafcc-04c4-4602-a381-d51ddbdd4a01",
   "metadata": {},
   "outputs": [],
   "source": [
    "numbers.append(4)"
   ]
  },
  {
   "cell_type": "markdown",
   "id": "bbec6796-49c7-4553-9236-c5827caba328",
   "metadata": {},
   "source": [
    "numbers"
   ]
  },
  {
   "cell_type": "markdown",
   "id": "787b1d6b-ac52-4da5-8af9-e5c334829f2e",
   "metadata": {},
   "source": [
    "# 2) list.extend(iterable): This method is used to add multiple items to the end of a list. The argument passed to the method should be an iterable (e.g. a list or a tuple).\n",
    "https://martinxpn.medium.com/10-most-useful-list-methods-in-python-20-100-days-of-python-f0f0d1df7205"
   ]
  },
  {
   "cell_type": "code",
   "execution_count": 31,
   "id": "f5f0dcd1-7606-4ba1-ab15-59db4568b87f",
   "metadata": {},
   "outputs": [],
   "source": [
    "numbers.extend([4, 5, 6])"
   ]
  },
  {
   "cell_type": "code",
   "execution_count": 33,
   "id": "4340426f-6833-4091-8ce6-bf8bf89705b0",
   "metadata": {},
   "outputs": [
    {
     "data": {
      "text/plain": [
       "[1, 2, 3, 4, 4, 5, 6, 4, 5, 6, 4, 5, 6]"
      ]
     },
     "execution_count": 33,
     "metadata": {},
     "output_type": "execute_result"
    }
   ],
   "source": [
    "numbers"
   ]
  },
  {
   "cell_type": "markdown",
   "id": "f062f5f8-216c-48c1-8155-eccf4a783d03",
   "metadata": {},
   "source": [
    "# 3) list.insert(index, item): This method is used to insert an item at a specific index in a list. For example,\n",
    "https://martinxpn.medium.com/10-most-useful-list-methods-in-python-20-100-days-of-python-f0f0d1df7205"
   ]
  },
  {
   "cell_type": "code",
   "execution_count": 39,
   "id": "1034fac8-160f-477b-b309-b209d6aa6a54",
   "metadata": {},
   "outputs": [],
   "source": [
    "numbers = [1, 2, 3];"
   ]
  },
  {
   "cell_type": "code",
   "execution_count": 41,
   "id": "48a250eb-71ac-4381-a88e-dcb93db4486a",
   "metadata": {},
   "outputs": [],
   "source": [
    "numbers.insert(1, 4)"
   ]
  },
  {
   "cell_type": "code",
   "execution_count": 43,
   "id": "8e7cec25-e162-4dae-8d21-11e53e7a4d62",
   "metadata": {},
   "outputs": [
    {
     "data": {
      "text/plain": [
       "[1, 4, 2, 3]"
      ]
     },
     "execution_count": 43,
     "metadata": {},
     "output_type": "execute_result"
    }
   ],
   "source": [
    "numbers"
   ]
  },
  {
   "cell_type": "markdown",
   "id": "881520b3-04c6-4900-9f92-970ea288da5f",
   "metadata": {},
   "source": [
    "# 4) list.remove(item): This method is used to remove the first occurrence of a specific item from a list. For example,\n",
    "https://martinxpn.medium.com/10-most-useful-list-methods-in-python-20-100-days-of-python-f0f0d1df7205"
   ]
  },
  {
   "cell_type": "code",
   "execution_count": 50,
   "id": "da0a57a2-e3b7-40af-86c3-3ce5f2be8a2c",
   "metadata": {},
   "outputs": [],
   "source": [
    "numbers = [1, 2, 3, 4, 4];"
   ]
  },
  {
   "cell_type": "code",
   "execution_count": 54,
   "id": "5ecb0ce3-22b6-45ca-884a-40a6297e246f",
   "metadata": {},
   "outputs": [],
   "source": [
    "numbers.remove(4)"
   ]
  },
  {
   "cell_type": "code",
   "execution_count": 58,
   "id": "d811ea97-ba2e-4858-bbaf-3352998d8ec1",
   "metadata": {},
   "outputs": [
    {
     "data": {
      "text/plain": [
       "[1, 2, 3, 4]"
      ]
     },
     "execution_count": 58,
     "metadata": {},
     "output_type": "execute_result"
    }
   ],
   "source": [
    "numbers"
   ]
  },
  {
   "cell_type": "markdown",
   "id": "8ef03f61-5729-4aa0-b8ba-b4aa25e27917",
   "metadata": {},
   "source": [
    "# 5) list.pop(index): This method is used to remove an item at a specific index in a list and return the removed item. For example,\n",
    "https://martinxpn.medium.com/10-most-useful-list-methods-in-python-20-100-days-of-python-f0f0d1df7205"
   ]
  },
  {
   "cell_type": "code",
   "execution_count": 64,
   "id": "5551639a-d3e3-4abd-9738-182b9d7ed1fe",
   "metadata": {},
   "outputs": [],
   "source": [
    "numbers = [1, 2, 3];"
   ]
  },
  {
   "cell_type": "code",
   "execution_count": 66,
   "id": "74941e88-40e8-43e5-83de-e9cdd23bafd9",
   "metadata": {},
   "outputs": [
    {
     "data": {
      "text/plain": [
       "2"
      ]
     },
     "execution_count": 66,
     "metadata": {},
     "output_type": "execute_result"
    }
   ],
   "source": [
    "numbers.pop(1)"
   ]
  },
  {
   "cell_type": "code",
   "execution_count": 68,
   "id": "4cfea225-5697-4f63-855f-9d16cbd01355",
   "metadata": {},
   "outputs": [
    {
     "data": {
      "text/plain": [
       "[1, 3]"
      ]
     },
     "execution_count": 68,
     "metadata": {},
     "output_type": "execute_result"
    }
   ],
   "source": [
    "numbers"
   ]
  },
  {
   "cell_type": "markdown",
   "id": "1963bc13-cae5-46ae-86fa-831a494dc1d9",
   "metadata": {},
   "source": [
    "# 6) list.index(item): This method is used to find the index of the first occurrence of a specific item in a list.\n",
    "https://martinxpn.medium.com/10-most-useful-list-methods-in-python-20-100-days-of-python-f0f0d1df7205"
   ]
  },
  {
   "cell_type": "code",
   "execution_count": 73,
   "id": "9229d9b2-133e-4efe-ba2f-17a6eb016963",
   "metadata": {},
   "outputs": [],
   "source": [
    "numbers = [1,2,3,4,]"
   ]
  },
  {
   "cell_type": "code",
   "execution_count": 77,
   "id": "0ca836d1-c7a4-4be5-bdd3-3c0da1b9c4ab",
   "metadata": {},
   "outputs": [
    {
     "data": {
      "text/plain": [
       "3"
      ]
     },
     "execution_count": 77,
     "metadata": {},
     "output_type": "execute_result"
    }
   ],
   "source": [
    "numbers.index(4)"
   ]
  },
  {
   "cell_type": "markdown",
   "id": "9789bbdd-398d-4a31-be3d-d13b4a555dca",
   "metadata": {},
   "source": [
    "# 7) list.count(item): This method is used to count the number of occurrences of a specific item in a list.\n",
    "list.count(item): This method is used to count the number of occurrences of a specific item in a list."
   ]
  },
  {
   "cell_type": "code",
   "execution_count": 88,
   "id": "79c9f60c-df51-425e-8859-3aac2afa8d23",
   "metadata": {},
   "outputs": [],
   "source": [
    "numbers = [1,2,3,4,4]"
   ]
  },
  {
   "cell_type": "code",
   "execution_count": 90,
   "id": "3bf4be10-cc41-412d-b704-b1d676abcccb",
   "metadata": {},
   "outputs": [
    {
     "data": {
      "text/plain": [
       "2"
      ]
     },
     "execution_count": 90,
     "metadata": {},
     "output_type": "execute_result"
    }
   ],
   "source": [
    "numbers.count(4)"
   ]
  },
  {
   "cell_type": "markdown",
   "id": "5ddb03c1-8373-4065-b710-591e34f05b39",
   "metadata": {},
   "source": [
    "# 8) list.sort(): This method is used to sort the items in a list in ascending order. For example\n",
    "https://martinxpn.medium.com/10-most-useful-list-methods-in-python-20-100-days-of-python-f0f0d1df7205"
   ]
  },
  {
   "cell_type": "code",
   "execution_count": 100,
   "id": "a0e27fc9-72d0-4d0b-8cde-f398dcfa4186",
   "metadata": {},
   "outputs": [],
   "source": [
    "numbers = [ 4,5,6,1,3,2]"
   ]
  },
  {
   "cell_type": "code",
   "execution_count": 104,
   "id": "1721b256-883f-4e00-8631-9b110d94ed3d",
   "metadata": {},
   "outputs": [],
   "source": [
    "numbers.sort()"
   ]
  },
  {
   "cell_type": "code",
   "execution_count": 106,
   "id": "62af15a2-5791-47bd-af8d-cf9df56d96fc",
   "metadata": {},
   "outputs": [
    {
     "data": {
      "text/plain": [
       "[1, 2, 3, 4, 5, 6]"
      ]
     },
     "execution_count": 106,
     "metadata": {},
     "output_type": "execute_result"
    }
   ],
   "source": [
    "numbers"
   ]
  },
  {
   "cell_type": "markdown",
   "id": "19345d16-0fdd-463a-9a14-17dbbe9f6cd1",
   "metadata": {},
   "source": [
    "# 9) list.reverse(): This method is used to reverse the order of the items in a list. For exampl\n",
    "https://martinxpn.medium.com/10-most-useful-list-methods-in-python-20-100-days-of-python-f0f0d1df7205"
   ]
  },
  {
   "cell_type": "code",
   "execution_count": null,
   "id": "28f5736d-d934-41cf-b51e-d8ed1736b08e",
   "metadata": {},
   "outputs": [],
   "source": [
    "numbers = [ 4,5,6,1,3,2]"
   ]
  },
  {
   "cell_type": "code",
   "execution_count": 112,
   "id": "a06d88ab-51c6-4553-bae4-6b7b90d05a1a",
   "metadata": {},
   "outputs": [],
   "source": [
    "numbers.reverse()"
   ]
  },
  {
   "cell_type": "code",
   "execution_count": 114,
   "id": "db2ab8fa-fc52-4f6f-8cdc-0e7b9a6cc7c9",
   "metadata": {},
   "outputs": [
    {
     "data": {
      "text/plain": [
       "[6, 5, 4, 3, 2, 1]"
      ]
     },
     "execution_count": 114,
     "metadata": {},
     "output_type": "execute_result"
    }
   ],
   "source": [
    "numbers"
   ]
  },
  {
   "cell_type": "markdown",
   "id": "8ae5c01d-bf22-4e9f-bbcf-85090f801523",
   "metadata": {},
   "source": [
    "# 10) list.clear(): This method is used to remove all items from a list, effectively emptying it. For example, \n",
    "https://martinxpn.medium.com/10-most-useful-list-methods-in-python-20-100-days-of-python-f0f0d1df7205"
   ]
  },
  {
   "cell_type": "code",
   "execution_count": 119,
   "id": "ac0fa38c-a493-403c-b700-74fadbf417be",
   "metadata": {},
   "outputs": [],
   "source": [
    "numbers = [ 4,5,6,1,3,2]"
   ]
  },
  {
   "cell_type": "code",
   "execution_count": 121,
   "id": "0335b550-fb01-43b9-bca5-43c5b0118aa4",
   "metadata": {},
   "outputs": [],
   "source": [
    "numbers.clear()"
   ]
  },
  {
   "cell_type": "code",
   "execution_count": 123,
   "id": "251373cc-a7df-46a0-b7ed-3338a23046ca",
   "metadata": {},
   "outputs": [
    {
     "data": {
      "text/plain": [
       "[]"
      ]
     },
     "execution_count": 123,
     "metadata": {},
     "output_type": "execute_result"
    }
   ],
   "source": [
    "numbers"
   ]
  },
  {
   "cell_type": "markdown",
   "id": "9c123297-7972-48be-97d8-86e58acbd8e0",
   "metadata": {},
   "source": [
    "# Python Conditions and If statements"
   ]
  },
  {
   "cell_type": "code",
   "execution_count": 13,
   "id": "df730ea8-750f-410f-8504-f3e624d98467",
   "metadata": {},
   "outputs": [
    {
     "name": "stdout",
     "output_type": "stream",
     "text": [
      "b is greater than a\n"
     ]
    }
   ],
   "source": [
    "a = 33\n",
    "b = 200\n",
    "if b > a:\n",
    "  print(\"b is greater than a\")"
   ]
  },
  {
   "cell_type": "markdown",
   "id": "1cb6f9a8-449a-45b3-8c19-ba1242e153f3",
   "metadata": {},
   "source": [
    "# Elif\n",
    "The elif keyword is Python's way of saying \"if the previous conditions were not true, then try this condition\"."
   ]
  },
  {
   "cell_type": "code",
   "execution_count": 18,
   "id": "ecc1e296-8b96-4571-92c1-8867e4d282fe",
   "metadata": {},
   "outputs": [
    {
     "name": "stdout",
     "output_type": "stream",
     "text": [
      " a and b are equal\n"
     ]
    }
   ],
   "source": [
    "a = 33\n",
    "b = 33 \n",
    "if b > a:\n",
    "    print(\"b is greter gthan a\")\n",
    "elif a == b:\n",
    "    print(\" a and b are equal\") "
   ]
  },
  {
   "cell_type": "markdown",
   "id": "80637cd6-e8dc-4097-8f59-c9e090ac6be9",
   "metadata": {},
   "source": [
    "# Else\r\n",
    "The else keyword catches anything which isn't caught by the preceding conditions."
   ]
  },
  {
   "cell_type": "code",
   "execution_count": 29,
   "id": "ed8eea34-5630-4238-af8b-45329a51d26d",
   "metadata": {},
   "outputs": [
    {
     "name": "stdout",
     "output_type": "stream",
     "text": [
      "a is gerater than b\n"
     ]
    }
   ],
   "source": [
    "a = 200    # * In this example a is greater than b, so the first condition is not true, also the elif condition is not true, so we go to the else condition and print to screen that \"a is greater than b\".      You can also have an else without the elif\n",
    "b = 33\n",
    "if b > a:\n",
    "  print(\"b is greater than a\")\n",
    "elif a == b:\n",
    "  print(\"a and b are equal\")\n",
    "else:\n",
    "    print(\"a is gerater than b\")"
   ]
  },
  {
   "cell_type": "markdown",
   "id": "bf6ef41b-0339-4fc0-aa6b-7eec1312e693",
   "metadata": {},
   "source": [
    "# Short Hand If ... Else\n",
    "If you have only one statement to execute, one for if, and one for else, you can put it all on the same line"
   ]
  },
  {
   "cell_type": "code",
   "execution_count": 32,
   "id": "cc4b0f73-3926-4517-8c9f-e5ca1caabc26",
   "metadata": {},
   "outputs": [
    {
     "name": "stdout",
     "output_type": "stream",
     "text": [
      "B\n"
     ]
    }
   ],
   "source": [
    "a = 2\n",
    "b = 330\n",
    "print(\"A\") if a > b else print(\"B\")"
   ]
  },
  {
   "cell_type": "markdown",
   "id": "4c5e16e5-cb7d-481d-90e9-18388bff9188",
   "metadata": {},
   "source": [
    "# And\n",
    "The and keyword is a logical operator, and is used to combine conditional statements:"
   ]
  },
  {
   "cell_type": "code",
   "execution_count": 41,
   "id": "edb2dab0-601d-47c2-815f-99c4f5af1e29",
   "metadata": {},
   "outputs": [
    {
     "name": "stdout",
     "output_type": "stream",
     "text": [
      "both condtion are true\n"
     ]
    }
   ],
   "source": [
    "a = 200\n",
    "b = 33\n",
    "c = 500\n",
    "if a > b and c > a:\n",
    "    print(\"both condtion are true\")"
   ]
  },
  {
   "cell_type": "markdown",
   "id": "3b09eebf-6d88-4b85-b533-cf76f68a742f",
   "metadata": {},
   "source": [
    "# Or\n",
    "The or keyword is a logical operator, and is used to combine conditional statements:"
   ]
  },
  {
   "cell_type": "code",
   "execution_count": 46,
   "id": "67460bd0-31d1-4821-95a9-25916bf9cb49",
   "metadata": {},
   "outputs": [
    {
     "name": "stdout",
     "output_type": "stream",
     "text": [
      "At least one of the conditions is True\n"
     ]
    }
   ],
   "source": [
    "a = 200\n",
    "b = 33\n",
    "c = 500\n",
    "if a > b or a > c:\n",
    "    print(\"At least one of the conditions is True\")"
   ]
  },
  {
   "cell_type": "markdown",
   "id": "cd2ee5ff-abda-43fb-b4f0-c4340285f7f0",
   "metadata": {},
   "source": [
    "# Not\n",
    "The not keyword is a logical operator, and is used to reverse the result of the conditional statement:"
   ]
  },
  {
   "cell_type": "code",
   "execution_count": 53,
   "id": "4cc90465-a05c-4878-9213-62719030c415",
   "metadata": {},
   "outputs": [
    {
     "name": "stdout",
     "output_type": "stream",
     "text": [
      "a is NOT greater than b\n"
     ]
    }
   ],
   "source": [
    "# Test if a is NOT greater than b:\n",
    "\n",
    "a = 33\n",
    "b = 200\n",
    "if not a > b:\n",
    "  print(\"a is NOT greater than b\")"
   ]
  },
  {
   "cell_type": "markdown",
   "id": "f2de94a1-f4c8-470a-9184-0933937379c4",
   "metadata": {},
   "source": [
    "# Nested If\n",
    "You can have if statements inside if statements, this is called nested if statements."
   ]
  },
  {
   "cell_type": "code",
   "execution_count": 56,
   "id": "91be4ed1-dc93-4022-8f4c-77bc84b9f0cb",
   "metadata": {},
   "outputs": [
    {
     "name": "stdout",
     "output_type": "stream",
     "text": [
      "Above ten,\n",
      "and also above 20!\n"
     ]
    }
   ],
   "source": [
    "# Example\n",
    "x = 41\n",
    "\n",
    "if x > 10:\n",
    "  print(\"Above ten,\")\n",
    "  if x > 20:\n",
    "    print(\"and also above 20!\")\n",
    "  else:\n",
    "    print(\"but not above 20.\")"
   ]
  },
  {
   "cell_type": "markdown",
   "id": "66630b73-4184-4fc6-a8d5-4767f25a80f8",
   "metadata": {},
   "source": [
    "# The pass Statement\n",
    "if statements cannot be empty, but if you for some reason have an if statement with no content, put in the pass statement to avoid getting an error."
   ]
  },
  {
   "cell_type": "code",
   "execution_count": 61,
   "id": "724722fc-91de-4bc6-a794-7e78e9784628",
   "metadata": {},
   "outputs": [],
   "source": [
    "a = 33\n",
    "b = 200\n",
    "if b > a:\n",
    "   pass \n"
   ]
  },
  {
   "cell_type": "code",
   "execution_count": null,
   "id": "d614cfb5-4f1c-47cc-a84e-39da764a6b01",
   "metadata": {},
   "outputs": [],
   "source": []
  }
 ],
 "metadata": {
  "kernelspec": {
   "display_name": "Python 3 (ipykernel)",
   "language": "python",
   "name": "python3"
  },
  "language_info": {
   "codemirror_mode": {
    "name": "ipython",
    "version": 3
   },
   "file_extension": ".py",
   "mimetype": "text/x-python",
   "name": "python",
   "nbconvert_exporter": "python",
   "pygments_lexer": "ipython3",
   "version": "3.12.4"
  }
 },
 "nbformat": 4,
 "nbformat_minor": 5
}
